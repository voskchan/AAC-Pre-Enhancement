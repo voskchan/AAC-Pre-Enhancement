{
 "cells": [
  {
   "cell_type": "code",
   "execution_count": 1,
   "id": "4aae1297",
   "metadata": {},
   "outputs": [],
   "source": [
    "from animal_shelter import AnimalShelter"
   ]
  },
  {
   "cell_type": "code",
   "execution_count": 2,
   "id": "f211757e",
   "metadata": {},
   "outputs": [],
   "source": [
    "animals = AnimalShelter()"
   ]
  },
  {
   "cell_type": "code",
   "execution_count": 3,
   "id": "564a8801",
   "metadata": {},
   "outputs": [
    {
     "name": "stdout",
     "output_type": "stream",
     "text": [
      "{'_id': ObjectId('65fe1398aac849662e838e29'), 'rec_num': 4, 'age_upon_outcome': '7 months', 'animal_id': 'A733653', 'animal_type': 'Cat', 'breed': 'Siamese Mix', 'color': 'Seal Point', 'date_of_birth': '2016-01-25', 'datetime': '2016-08-27 18:11:00', 'monthyear': '2016-08-27T18:11:00', 'name': 'Kitty', 'outcome_subtype': '', 'outcome_type': 'Adoption', 'sex_upon_outcome': 'Intact Female', 'location_lat': 30.3188063374257, 'location_long': -97.7240376703891, 'age_upon_outcome_in_weeks': 30.8225198412698}\n",
      "{'_id': ObjectId('65fe1398aac849662e8395bf'), 'rec_num': 1944, 'age_upon_outcome': '2 years', 'animal_id': 'A760059', 'animal_type': 'Cat', 'breed': 'Domestic Shorthair Mix', 'color': 'Gray Tabby/White', 'date_of_birth': '2015-10-11', 'datetime': '2017-10-19 16:10:00', 'monthyear': '2017-10-19T16:10:00', 'name': 'Kitty', 'outcome_subtype': '', 'outcome_type': 'Adoption', 'sex_upon_outcome': 'Spayed Female', 'location_lat': 30.3326597887285, 'location_long': -97.3994958646447, 'age_upon_outcome_in_weeks': 105.667658730159}\n",
      "{'_id': ObjectId('65fe1398aac849662e83a155'), 'rec_num': 4906, 'age_upon_outcome': '2 years', 'animal_id': 'A680194', 'animal_type': 'Cat', 'breed': 'Domestic Shorthair Mix', 'color': 'Brown Tabby/White', 'date_of_birth': '2012-05-30', 'datetime': '2014-07-02 14:38:00', 'monthyear': '2014-07-02T14:38:00', 'name': 'Kitty', 'outcome_subtype': 'Partner', 'outcome_type': 'Transfer', 'sex_upon_outcome': 'Neutered Male', 'location_lat': 30.552115334251, 'location_long': -97.6885259584489, 'age_upon_outcome_in_weeks': 109.087103174603}\n",
      "{'_id': ObjectId('65fe1398aac849662e83ad14'), 'rec_num': 7917, 'age_upon_outcome': '2 months', 'animal_id': 'A731042', 'animal_type': 'Cat', 'breed': 'Domestic Shorthair Mix', 'color': 'Blue Tabby', 'date_of_birth': '2016-05-15', 'datetime': '2016-07-24 08:57:00', 'monthyear': '2016-07-24T08:57:00', 'name': 'Kitty', 'outcome_subtype': '', 'outcome_type': 'Adoption', 'sex_upon_outcome': 'Spayed Female', 'location_lat': 30.448980891549, 'location_long': -97.5221141112342, 'age_upon_outcome_in_weeks': 10.0532738095238}\n"
     ]
    }
   ],
   "source": [
    "result = animals.read({\"name\":\"Kitty\"})\n",
    "for animal in result:\n",
    "    print(animal)"
   ]
  },
  {
   "cell_type": "code",
   "execution_count": 4,
   "id": "57becf10",
   "metadata": {},
   "outputs": [
    {
     "ename": "SyntaxError",
     "evalue": "invalid syntax (1819969317.py, line 1)",
     "output_type": "error",
     "traceback": [
      "\u001b[0;36m  Input \u001b[0;32mIn [4]\u001b[0;36m\u001b[0m\n\u001b[0;31m    result = animals.read({\"name\":})\u001b[0m\n\u001b[0m                                  ^\u001b[0m\n\u001b[0;31mSyntaxError\u001b[0m\u001b[0;31m:\u001b[0m invalid syntax\n"
     ]
    }
   ],
   "source": [
    "result = animals.read({\"name\":})\n",
    "for animal in result:\n",
    "    print(animal)"
   ]
  },
  {
   "cell_type": "code",
   "execution_count": 5,
   "id": "48a1e060",
   "metadata": {},
   "outputs": [
    {
     "name": "stdout",
     "output_type": "stream",
     "text": [
      "True\n"
     ]
    }
   ],
   "source": [
    "new_animal = {\"age_upon_outcome\" : \"3 months\",\n",
    "              \"animal_id\" : \"testid\",\n",
    "              \"animal_type\" : \"Dog\",\n",
    "              \"breed\" : \"German Shepard\",\n",
    "              \"color\" : \"Mixed\",\n",
    "              \"date_of_birth\" : \"2015-04-13\",\n",
    "              \"datetime\" : \"2015-07-25 09:45:00\",\n",
    "              \"monthyear\" : \"2015-97-25T09:45:00\",\n",
    "              \"name\" : \"Dog\",\n",
    "              \"outcome_subtype\" : \"\",\n",
    "              \"outcome_type\" : \"Adoption\",\n",
    "              \"sex_upon_outcome\" : \"Neutered Male\", \n",
    "              \"location_lat\" : 70,\n",
    "              \"location_long\" : 80,\n",
    "              \"age_upon_outcome_in_weeks\" : 12}\n",
    "success = animals.create(new_animal)\n",
    "print(success)"
   ]
  },
  {
   "cell_type": "code",
   "execution_count": 6,
   "id": "702df991",
   "metadata": {},
   "outputs": [
    {
     "name": "stdout",
     "output_type": "stream",
     "text": [
      "{'_id': ObjectId('65fe1398aac849662e8393e5'), 'rec_num': 1470, 'age_upon_outcome': '5 years', 'animal_id': 'A720585', 'animal_type': 'Dog', 'breed': 'Chow Chow Mix', 'color': 'Red', 'date_of_birth': '2011-02-12', 'datetime': '2016-02-14 16:56:00', 'monthyear': '2016-02-14T16:56:00', 'name': 'Dog', 'outcome_subtype': '', 'outcome_type': 'Adoption', 'sex_upon_outcome': 'Neutered Male', 'location_lat': 30.3545413676824, 'location_long': -97.7324345956573, 'age_upon_outcome_in_weeks': 261.243650793651}\n",
      "{'_id': ObjectId('65fe1398aac849662e83a135'), 'rec_num': 4879, 'age_upon_outcome': '1 year', 'animal_id': 'A687535', 'animal_type': 'Dog', 'breed': 'Boxer Mix', 'color': 'Fawn/White', 'date_of_birth': '2013-08-08', 'datetime': '2014-09-08 17:06:00', 'monthyear': '2014-09-08T17:06:00', 'name': 'Dog', 'outcome_subtype': '', 'outcome_type': 'Return to Owner', 'sex_upon_outcome': 'Neutered Male', 'location_lat': 30.74375532063, 'location_long': -97.621643824612, 'age_upon_outcome_in_weeks': 56.6732142857143}\n",
      "{'_id': ObjectId('65fe1398aac849662e83a8ac'), 'rec_num': 6789, 'age_upon_outcome': '1 year', 'animal_id': 'A716679', 'animal_type': 'Dog', 'breed': 'Chihuahua Shorthair/Basset Hound', 'color': 'White/Brown Brindle', 'date_of_birth': '2014-11-23', 'datetime': '2015-11-30 13:58:00', 'monthyear': '2015-11-30T13:58:00', 'name': 'Dog', 'outcome_subtype': 'Partner', 'outcome_type': 'Transfer', 'sex_upon_outcome': 'Intact Male', 'location_lat': 30.586447111682, 'location_long': -97.5789079405568, 'age_upon_outcome_in_weeks': 53.2259920634921}\n",
      "{'_id': ObjectId('660768f09fab9a07667a0b60'), 'age_upon_outcome': '3 months', 'animal_id': 'testid', 'animal_type': 'Dog', 'breed': 'German Shepard', 'color': 'Mixed', 'date_of_birth': '2015-04-13', 'datetime': '2015-07-25 09:45:00', 'monthyear': '2015-97-25T09:45:00', 'name': 'Dog', 'outcome_subtype': '', 'outcome_type': 'Adoption', 'sex_upon_outcome': 'Neutered Male', 'location_lat': 70, 'location_long': 80, 'age_upon_outcome_in_weeks': 12}\n"
     ]
    }
   ],
   "source": [
    "result = animals.read({'name' : 'Dog'})\n",
    "for animal in result:\n",
    "    print(animal)\n",
    "    "
   ]
  },
  {
   "cell_type": "code",
   "execution_count": 1,
   "id": "d73d82ef",
   "metadata": {},
   "outputs": [],
   "source": [
    "from animal_shelter import AnimalShelter\n"
   ]
  },
  {
   "cell_type": "code",
   "execution_count": 2,
   "id": "1668c895",
   "metadata": {},
   "outputs": [],
   "source": [
    "AAC = AnimalShelter()\n"
   ]
  },
  {
   "cell_type": "code",
   "execution_count": 3,
   "id": "23eda9c0",
   "metadata": {},
   "outputs": [
    {
     "name": "stdout",
     "output_type": "stream",
     "text": [
      "{'_id': ObjectId('65fe1398aac849662e8393e5'), 'rec_num': 1470, 'age_upon_outcome': '5 years', 'animal_id': 'A720585', 'animal_type': 'Dog', 'breed': 'Chow Chow Mix', 'color': 'Red', 'date_of_birth': '2011-02-12', 'datetime': '2016-02-14 16:56:00', 'monthyear': '2016-02-14T16:56:00', 'name': 'Dog', 'outcome_subtype': '', 'outcome_type': 'Adoption', 'sex_upon_outcome': 'Neutered Male', 'location_lat': 30.3545413676824, 'location_long': -97.7324345956573, 'age_upon_outcome_in_weeks': 261.243650793651}\n",
      "{'_id': ObjectId('65fe1398aac849662e83a135'), 'rec_num': 4879, 'age_upon_outcome': '1 year', 'animal_id': 'A687535', 'animal_type': 'Dog', 'breed': 'Boxer Mix', 'color': 'Fawn/White', 'date_of_birth': '2013-08-08', 'datetime': '2014-09-08 17:06:00', 'monthyear': '2014-09-08T17:06:00', 'name': 'Dog', 'outcome_subtype': '', 'outcome_type': 'Return to Owner', 'sex_upon_outcome': 'Neutered Male', 'location_lat': 30.74375532063, 'location_long': -97.621643824612, 'age_upon_outcome_in_weeks': 56.6732142857143}\n",
      "{'_id': ObjectId('65fe1398aac849662e83a8ac'), 'rec_num': 6789, 'age_upon_outcome': '1 year', 'animal_id': 'A716679', 'animal_type': 'Dog', 'breed': 'Chihuahua Shorthair/Basset Hound', 'color': 'White/Brown Brindle', 'date_of_birth': '2014-11-23', 'datetime': '2015-11-30 13:58:00', 'monthyear': '2015-11-30T13:58:00', 'name': 'Dog', 'outcome_subtype': 'Partner', 'outcome_type': 'Transfer', 'sex_upon_outcome': 'Intact Male', 'location_lat': 30.586447111682, 'location_long': -97.5789079405568, 'age_upon_outcome_in_weeks': 53.2259920634921}\n",
      "{'_id': ObjectId('660768f09fab9a07667a0b60'), 'age_upon_outcome': '3 months', 'animal_id': 'testid', 'animal_type': 'Dog', 'breed': 'German Shepard', 'color': 'Mixed', 'date_of_birth': '2015-04-13', 'datetime': '2015-07-25 09:45:00', 'monthyear': '2015-97-25T09:45:00', 'name': 'Dog', 'outcome_subtype': '', 'outcome_type': 'Adoption', 'sex_upon_outcome': 'Neutered Male', 'location_lat': 70, 'location_long': 80, 'age_upon_outcome_in_weeks': 12}\n"
     ]
    }
   ],
   "source": [
    "result = AAC.read({\"name\":\"Dog\"})\n",
    "for animal in result:\n",
    "    print(animal)"
   ]
  },
  {
   "cell_type": "code",
   "execution_count": 4,
   "id": "f0d36f15",
   "metadata": {},
   "outputs": [
    {
     "name": "stdout",
     "output_type": "stream",
     "text": [
      "<pymongo.results.UpdateResult object at 0x7fa280072740>\n"
     ]
    }
   ],
   "source": [
    "result = AAC.update({\"animal_id\":\"test\"}, {\"name\":\"New Dog\"})\n",
    "print(result)"
   ]
  },
  {
   "cell_type": "code",
   "execution_count": 5,
   "id": "d25e7772",
   "metadata": {},
   "outputs": [
    {
     "name": "stdout",
     "output_type": "stream",
     "text": [
      "<pymongo.results.UpdateResult object at 0x7fa280072740>\n"
     ]
    }
   ],
   "source": [
    "print(result)"
   ]
  },
  {
   "cell_type": "code",
   "execution_count": 6,
   "id": "0ea4a30c",
   "metadata": {},
   "outputs": [
    {
     "name": "stdout",
     "output_type": "stream",
     "text": [
      "{'n': 0, 'nModified': 0, 'ok': 1.0, 'updatedExisting': False}\n"
     ]
    }
   ],
   "source": [
    "print(result.raw_result)"
   ]
  },
  {
   "cell_type": "code",
   "execution_count": 7,
   "id": "42e47dd6",
   "metadata": {},
   "outputs": [],
   "source": [
    "result = AAC.read({\"name\":\"New Dog\"})\n",
    "for animal in result:\n",
    "    print(animal)"
   ]
  },
  {
   "cell_type": "code",
   "execution_count": 1,
   "id": "716ac1b1",
   "metadata": {},
   "outputs": [],
   "source": [
    "from animal_shelter import AnimalShelter\n"
   ]
  },
  {
   "cell_type": "code",
   "execution_count": 2,
   "id": "389cad32",
   "metadata": {},
   "outputs": [
    {
     "ename": "NameError",
     "evalue": "name 'AAC' is not defined",
     "output_type": "error",
     "traceback": [
      "\u001b[0;31m---------------------------------------------------------------------------\u001b[0m",
      "\u001b[0;31mNameError\u001b[0m                                 Traceback (most recent call last)",
      "Input \u001b[0;32mIn [2]\u001b[0m, in \u001b[0;36m<cell line: 1>\u001b[0;34m()\u001b[0m\n\u001b[0;32m----> 1\u001b[0m update \u001b[38;5;241m=\u001b[39m \u001b[43mAAC\u001b[49m\u001b[38;5;241m.\u001b[39mupdate({\u001b[38;5;124m\"\u001b[39m\u001b[38;5;124mname\u001b[39m\u001b[38;5;124m\"\u001b[39m:\u001b[38;5;124m\"\u001b[39m\u001b[38;5;124mDog\u001b[39m\u001b[38;5;124m\"\u001b[39m}, {\u001b[38;5;124m\"\u001b[39m\u001b[38;5;124moutcome_type\u001b[39m\u001b[38;5;124m\"\u001b[39m:\u001b[38;5;124m\"\u001b[39m\u001b[38;5;124mtesting\u001b[39m\u001b[38;5;124m\"\u001b[39m})\n\u001b[1;32m      2\u001b[0m \u001b[38;5;28mprint\u001b[39m(update)\n",
      "\u001b[0;31mNameError\u001b[0m: name 'AAC' is not defined"
     ]
    }
   ],
   "source": [
    "update = AAC.update({\"name\":\"Dog\"}, {\"outcome_type\":\"testing\"})\n",
    "print(update)"
   ]
  },
  {
   "cell_type": "code",
   "execution_count": 3,
   "id": "4d52d737",
   "metadata": {},
   "outputs": [],
   "source": [
    "AAC= AnimalShelter()"
   ]
  },
  {
   "cell_type": "code",
   "execution_count": 4,
   "id": "de03a08b",
   "metadata": {},
   "outputs": [
    {
     "name": "stdout",
     "output_type": "stream",
     "text": [
      "{'n': 4, 'nModified': 4, 'ok': 1.0, 'updatedExisting': True}\n"
     ]
    }
   ],
   "source": [
    "update = AAC.update({\"name\":\"Dog\"}, {\"outcome_type\":\"testing\"})\n",
    "print(update)"
   ]
  },
  {
   "cell_type": "code",
   "execution_count": 5,
   "id": "9d71a266",
   "metadata": {},
   "outputs": [
    {
     "ename": "SyntaxError",
     "evalue": "Missing parentheses in call to 'print'. Did you mean print(animal)? (269656414.py, line 3)",
     "output_type": "error",
     "traceback": [
      "\u001b[0;36m  Input \u001b[0;32mIn [5]\u001b[0;36m\u001b[0m\n\u001b[0;31m    print animal\u001b[0m\n\u001b[0m          ^\u001b[0m\n\u001b[0;31mSyntaxError\u001b[0m\u001b[0;31m:\u001b[0m Missing parentheses in call to 'print'. Did you mean print(animal)?\n"
     ]
    }
   ],
   "source": [
    "result = AAC.read({\"name\":\"Dog\"})\n",
    "for animal in result:\n",
    "    print animal"
   ]
  },
  {
   "cell_type": "code",
   "execution_count": 6,
   "id": "3e774a8d",
   "metadata": {},
   "outputs": [
    {
     "name": "stdout",
     "output_type": "stream",
     "text": [
      "{'_id': ObjectId('65fe1398aac849662e8393e5'), 'rec_num': 1470, 'age_upon_outcome': '5 years', 'animal_id': 'A720585', 'animal_type': 'Dog', 'breed': 'Chow Chow Mix', 'color': 'Red', 'date_of_birth': '2011-02-12', 'datetime': '2016-02-14 16:56:00', 'monthyear': '2016-02-14T16:56:00', 'name': 'Dog', 'outcome_subtype': '', 'outcome_type': 'testing', 'sex_upon_outcome': 'Neutered Male', 'location_lat': 30.3545413676824, 'location_long': -97.7324345956573, 'age_upon_outcome_in_weeks': 261.243650793651}\n",
      "{'_id': ObjectId('65fe1398aac849662e83a135'), 'rec_num': 4879, 'age_upon_outcome': '1 year', 'animal_id': 'A687535', 'animal_type': 'Dog', 'breed': 'Boxer Mix', 'color': 'Fawn/White', 'date_of_birth': '2013-08-08', 'datetime': '2014-09-08 17:06:00', 'monthyear': '2014-09-08T17:06:00', 'name': 'Dog', 'outcome_subtype': '', 'outcome_type': 'testing', 'sex_upon_outcome': 'Neutered Male', 'location_lat': 30.74375532063, 'location_long': -97.621643824612, 'age_upon_outcome_in_weeks': 56.6732142857143}\n",
      "{'_id': ObjectId('65fe1398aac849662e83a8ac'), 'rec_num': 6789, 'age_upon_outcome': '1 year', 'animal_id': 'A716679', 'animal_type': 'Dog', 'breed': 'Chihuahua Shorthair/Basset Hound', 'color': 'White/Brown Brindle', 'date_of_birth': '2014-11-23', 'datetime': '2015-11-30 13:58:00', 'monthyear': '2015-11-30T13:58:00', 'name': 'Dog', 'outcome_subtype': 'Partner', 'outcome_type': 'testing', 'sex_upon_outcome': 'Intact Male', 'location_lat': 30.586447111682, 'location_long': -97.5789079405568, 'age_upon_outcome_in_weeks': 53.2259920634921}\n",
      "{'_id': ObjectId('660768f09fab9a07667a0b60'), 'age_upon_outcome': '3 months', 'animal_id': 'testid', 'animal_type': 'Dog', 'breed': 'German Shepard', 'color': 'Mixed', 'date_of_birth': '2015-04-13', 'datetime': '2015-07-25 09:45:00', 'monthyear': '2015-97-25T09:45:00', 'name': 'Dog', 'outcome_subtype': '', 'outcome_type': 'testing', 'sex_upon_outcome': 'Neutered Male', 'location_lat': 70, 'location_long': 80, 'age_upon_outcome_in_weeks': 12}\n"
     ]
    }
   ],
   "source": [
    "result = AAC.read({\"name\":\"Dog\"})\n",
    "for animal in result:\n",
    "    print(animal)"
   ]
  },
  {
   "cell_type": "code",
   "execution_count": 1,
   "id": "0515e851",
   "metadata": {},
   "outputs": [
    {
     "ename": "NameError",
     "evalue": "name 'AAC' is not defined",
     "output_type": "error",
     "traceback": [
      "\u001b[0;31m---------------------------------------------------------------------------\u001b[0m",
      "\u001b[0;31mNameError\u001b[0m                                 Traceback (most recent call last)",
      "Input \u001b[0;32mIn [1]\u001b[0m, in \u001b[0;36m<cell line: 1>\u001b[0;34m()\u001b[0m\n\u001b[0;32m----> 1\u001b[0m delete \u001b[38;5;241m=\u001b[39m \u001b[43mAAC\u001b[49m\u001b[38;5;241m.\u001b[39mdelete({\u001b[38;5;124m\"\u001b[39m\u001b[38;5;124manimal_id\u001b[39m\u001b[38;5;124m\"\u001b[39m:\u001b[38;5;124m\"\u001b[39m\u001b[38;5;124mtestid\u001b[39m\u001b[38;5;124m\"\u001b[39m})\n\u001b[1;32m      2\u001b[0m \u001b[38;5;28mprint\u001b[39m(delete)\n",
      "\u001b[0;31mNameError\u001b[0m: name 'AAC' is not defined"
     ]
    }
   ],
   "source": [
    "delete = AAC.delete({\"animal_id\":\"testid\"})\n",
    "print(delete)"
   ]
  },
  {
   "cell_type": "code",
   "execution_count": 2,
   "id": "45a28b18",
   "metadata": {},
   "outputs": [
    {
     "ename": "ModuleNotFoundError",
     "evalue": "No module named 'animal_shleter'",
     "output_type": "error",
     "traceback": [
      "\u001b[0;31m---------------------------------------------------------------------------\u001b[0m",
      "\u001b[0;31mModuleNotFoundError\u001b[0m                       Traceback (most recent call last)",
      "Input \u001b[0;32mIn [2]\u001b[0m, in \u001b[0;36m<cell line: 1>\u001b[0;34m()\u001b[0m\n\u001b[0;32m----> 1\u001b[0m \u001b[38;5;28;01mfrom\u001b[39;00m \u001b[38;5;21;01manimal_shleter\u001b[39;00m \u001b[38;5;28;01mimport\u001b[39;00m AnimalShelter\n",
      "\u001b[0;31mModuleNotFoundError\u001b[0m: No module named 'animal_shleter'"
     ]
    }
   ],
   "source": [
    "from animal_shleter import AnimalShelter\n"
   ]
  },
  {
   "cell_type": "code",
   "execution_count": 3,
   "id": "ef92a681",
   "metadata": {},
   "outputs": [],
   "source": [
    "from animal_shelter import AnimalShelter"
   ]
  },
  {
   "cell_type": "code",
   "execution_count": 4,
   "id": "aa089cea",
   "metadata": {},
   "outputs": [],
   "source": [
    "AAC = AnimalShelter()\n"
   ]
  },
  {
   "cell_type": "code",
   "execution_count": 5,
   "id": "3d4eaaa4",
   "metadata": {},
   "outputs": [
    {
     "name": "stdout",
     "output_type": "stream",
     "text": [
      "{'n': 1, 'ok': 1.0}\n"
     ]
    }
   ],
   "source": [
    "delete = AAC.delete({\"animal_id\":\"testid\"})\n",
    "print(delete)"
   ]
  },
  {
   "cell_type": "code",
   "execution_count": null,
   "id": "639c3eb6",
   "metadata": {},
   "outputs": [],
   "source": []
  }
 ],
 "metadata": {
  "kernelspec": {
   "display_name": "Python 3 (ipykernel)",
   "language": "python",
   "name": "python3"
  },
  "language_info": {
   "codemirror_mode": {
    "name": "ipython",
    "version": 3
   },
   "file_extension": ".py",
   "mimetype": "text/x-python",
   "name": "python",
   "nbconvert_exporter": "python",
   "pygments_lexer": "ipython3",
   "version": "3.9.12"
  }
 },
 "nbformat": 4,
 "nbformat_minor": 5
}
